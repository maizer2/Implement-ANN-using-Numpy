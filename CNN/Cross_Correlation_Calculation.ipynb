{
  "nbformat": 4,
  "nbformat_minor": 0,
  "metadata": {
    "colab": {
      "name": "Cross-Correlation-Calculation.ipynb",
      "provenance": [],
      "collapsed_sections": []
    },
    "kernelspec": {
      "name": "python3",
      "display_name": "Python 3"
    },
    "language_info": {
      "name": "python"
    },
    "gpuClass": "standard"
  },
  "cells": [
    {
      "cell_type": "code",
      "execution_count": null,
      "metadata": {
        "id": "k4LxjA2erQlb"
      },
      "outputs": [],
      "source": [
        "import numpy as np"
      ]
    },
    {
      "cell_type": "code",
      "source": [
        "feature_map = np.array([[2, 8, 3, 7, 1, 2, 0, 4, 5], \n",
        "                       [6, 4, 9, 6, 7, 1, 7, 7, 2], \n",
        "                       [7, 9, 9, 1, 5, 2, 5, 1, 5], \n",
        "                       [2, 9, 6, 4, 4, 1, 3, 6, 3],\n",
        "                       [2, 10, 1, 8, 9, 4, 4, 5, 4],\n",
        "                       [5, 10, 1, 5, 1, 4, 10, 10, 6],\n",
        "                       [9, 2, 10, 3, 5, 5, 4, 7, 10],\n",
        "                       [8, 4, 3, 6, 4, 2, 8, 5, 5],\n",
        "                       [6, 1, 6, 6, 9, 3, 1, 10, 3]])\n",
        "\n",
        "kernel = np.array([[-1, 0, 1],\n",
        "                  [-1, 0, 1],\n",
        "                  [-1, 0, 1]])"
      ],
      "metadata": {
        "id": "Ri5a3K05uGAh"
      },
      "execution_count": null,
      "outputs": []
    },
    {
      "cell_type": "code",
      "source": [
        "a = np.zeros((3, 3))\n",
        "\n",
        "a"
      ],
      "metadata": {
        "colab": {
          "base_uri": "https://localhost:8080/"
        },
        "id": "D-0GxBWxP8-I",
        "outputId": "73941faa-4691-4011-fec9-8483c1a66617"
      },
      "execution_count": null,
      "outputs": [
        {
          "output_type": "execute_result",
          "data": {
            "text/plain": [
              "array([[0., 0., 0.],\n",
              "       [0., 0., 0.],\n",
              "       [0., 0., 0.]])"
            ]
          },
          "metadata": {},
          "execution_count": 74
        }
      ]
    },
    {
      "cell_type": "code",
      "source": [
        "class Croos_Correlation_Calculator:\n",
        "  def __init__(self, feature_map, kernel, Stride=1, Padding=0):\n",
        "    self.feture_map = feature_map\n",
        "    self.kernel = kernel\n",
        "    self.Stride = Stride\n",
        "    self.Padding = Padding\n",
        "\n",
        "  def valiation(self):\n",
        "    # 정방행렬 확인\n",
        "    if len(feature_map) != len(feature_map[0]):\n",
        "      raise Exception(\"정방행렬이 아닙니다.\")\n",
        "\n",
        "    # Check if calculations are possible\n",
        "    ## O, Output size  / I, Input size\n",
        "    ## P, Padding size / S, Stride size\n",
        "    ### O = (I - K + 2P / S) + 1\n",
        "  \n",
        "  def Calculation(self):\n",
        "    Output_size = ((len(self.feture_map)-len(self.kernel)+(2*self.Padding))/self.Stride) + 1\n",
        "\n",
        "    new_feature_map = np.zeros((Output_size, Output_size))\n",
        "\n",
        "    for i in range(Output_size):\n",
        "      \n",
        "\n",
        "    return new_feature_map\n",
        "  \n",
        "  def Croos_Correlation_Calculate(self):\n"
      ],
      "metadata": {
        "id": "_aNk2syuw74K"
      },
      "execution_count": null,
      "outputs": []
    }
  ]
}